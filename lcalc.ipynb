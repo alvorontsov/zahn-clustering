{
 "cells": [
  {
   "cell_type": "code",
   "execution_count": 67,
   "metadata": {},
   "outputs": [],
   "source": [
    "import numpy as np\n",
    "from nolitsa import lyapunov \n",
    "import json\n",
    "import nolds\n",
    "import pandas as pd\n",
    "import matplotlib.pyplot as plt\n",
    "from scipy.spatial import KDTree\n",
    "from scipy.spatial.distance import euclidean"
   ]
  },
  {
   "cell_type": "code",
   "execution_count": 2,
   "metadata": {},
   "outputs": [],
   "source": [
    "with open('data/series.json') as fp:\n",
    "    lorenz28 = json.load(fp)"
   ]
  },
  {
   "cell_type": "code",
   "execution_count": 7,
   "metadata": {},
   "outputs": [],
   "source": [
    "data = pd.read_csv('data/trades_btc_usdt.csv')"
   ]
  },
  {
   "cell_type": "code",
   "execution_count": 8,
   "metadata": {},
   "outputs": [
    {
     "data": {
      "text/html": [
       "<div>\n",
       "<style scoped>\n",
       "    .dataframe tbody tr th:only-of-type {\n",
       "        vertical-align: middle;\n",
       "    }\n",
       "\n",
       "    .dataframe tbody tr th {\n",
       "        vertical-align: top;\n",
       "    }\n",
       "\n",
       "    .dataframe thead th {\n",
       "        text-align: right;\n",
       "    }\n",
       "</style>\n",
       "<table border=\"1\" class=\"dataframe\">\n",
       "  <thead>\n",
       "    <tr style=\"text-align: right;\">\n",
       "      <th></th>\n",
       "      <th>eventTime</th>\n",
       "      <th>price</th>\n",
       "      <th>quantity</th>\n",
       "      <th>isBuyerMaker</th>\n",
       "      <th>symbol</th>\n",
       "    </tr>\n",
       "  </thead>\n",
       "  <tbody>\n",
       "    <tr>\n",
       "      <th>0</th>\n",
       "      <td>1530917978628</td>\n",
       "      <td>6574.7</td>\n",
       "      <td>0.150870</td>\n",
       "      <td>1</td>\n",
       "      <td>BTCUSDT</td>\n",
       "    </tr>\n",
       "    <tr>\n",
       "      <th>1</th>\n",
       "      <td>1530917978674</td>\n",
       "      <td>6574.7</td>\n",
       "      <td>0.038068</td>\n",
       "      <td>1</td>\n",
       "      <td>BTCUSDT</td>\n",
       "    </tr>\n",
       "    <tr>\n",
       "      <th>2</th>\n",
       "      <td>1530917979621</td>\n",
       "      <td>6574.7</td>\n",
       "      <td>0.281313</td>\n",
       "      <td>1</td>\n",
       "      <td>BTCUSDT</td>\n",
       "    </tr>\n",
       "    <tr>\n",
       "      <th>3</th>\n",
       "      <td>1530917980770</td>\n",
       "      <td>6574.7</td>\n",
       "      <td>0.038044</td>\n",
       "      <td>1</td>\n",
       "      <td>BTCUSDT</td>\n",
       "    </tr>\n",
       "    <tr>\n",
       "      <th>4</th>\n",
       "      <td>1530917980896</td>\n",
       "      <td>6574.7</td>\n",
       "      <td>0.011630</td>\n",
       "      <td>1</td>\n",
       "      <td>BTCUSDT</td>\n",
       "    </tr>\n",
       "  </tbody>\n",
       "</table>\n",
       "</div>"
      ],
      "text/plain": [
       "       eventTime   price  quantity  isBuyerMaker   symbol\n",
       "0  1530917978628  6574.7  0.150870             1  BTCUSDT\n",
       "1  1530917978674  6574.7  0.038068             1  BTCUSDT\n",
       "2  1530917979621  6574.7  0.281313             1  BTCUSDT\n",
       "3  1530917980770  6574.7  0.038044             1  BTCUSDT\n",
       "4  1530917980896  6574.7  0.011630             1  BTCUSDT"
      ]
     },
     "execution_count": 8,
     "metadata": {},
     "output_type": "execute_result"
    }
   ],
   "source": [
    "data.head()"
   ]
  },
  {
   "cell_type": "code",
   "execution_count": 9,
   "metadata": {},
   "outputs": [],
   "source": [
    "fin = data.price.values"
   ]
  },
  {
   "cell_type": "code",
   "execution_count": 216,
   "metadata": {},
   "outputs": [
    {
     "data": {
      "text/plain": [
       "array([6574.7 , 6574.7 , 6574.7 , 6574.7 , 6574.7 , 6574.79, 6574.89,\n",
       "       6574.7 , 6574.7 , 6574.7 , 6574.88, 6574.88, 6574.89, 6574.89,\n",
       "       6574.89, 6574.7 , 6574.7 , 6574.7 , 6574.7 , 6574.7 , 6574.7 ,\n",
       "       6574.89, 6574.89, 6574.9 , 6574.89, 6574.89, 6574.89, 6574.7 ,\n",
       "       6574.7 , 6574.7 , 6574.7 , 6574.7 , 6574.79, 6574.88, 6574.7 ,\n",
       "       6574.7 , 6574.89, 6574.9 , 6574.9 , 6574.89, 6574.89, 6574.89,\n",
       "       6574.89, 6574.89, 6574.89, 6574.9 , 6574.9 , 6574.89, 6574.89,\n",
       "       6574.9 , 6574.9 , 6574.89, 6574.9 , 6574.89, 6574.89, 6574.89,\n",
       "       6574.89, 6574.89, 6574.89, 6574.89, 6574.9 , 6574.9 , 6574.89,\n",
       "       6574.89, 6574.9 , 6574.9 , 6574.89, 6574.89, 6574.89, 6574.89,\n",
       "       6574.89, 6574.7 , 6574.89, 6574.9 , 6575.  , 6574.89, 6574.89,\n",
       "       6574.89, 6574.89, 6574.89, 6574.89, 6574.89, 6574.94, 6574.99,\n",
       "       6574.89, 6574.89, 6574.7 , 6574.7 , 6574.69, 6574.69, 6574.7 ,\n",
       "       6574.7 , 6574.7 , 6574.7 , 6574.7 , 6572.86, 6572.86, 6574.69,\n",
       "       6574.69, 6572.86])"
      ]
     },
     "execution_count": 216,
     "metadata": {},
     "output_type": "execute_result"
    }
   ],
   "source": [
    "fin[:100]"
   ]
  },
  {
   "cell_type": "code",
   "execution_count": 3,
   "metadata": {},
   "outputs": [
    {
     "data": {
      "text/plain": [
       "[0.17450535575235093,\n",
       " 0.05839779137295202,\n",
       " 0.0440992367971854,\n",
       " 0.07365239735349076,\n",
       " 0.16709482839859596,\n",
       " 0.42488173619505915,\n",
       " 1.1512027438326828,\n",
       " 3.2420943890612737,\n",
       " 9.003825728926806,\n",
       " 17.738817135348246]"
      ]
     },
     "execution_count": 3,
     "metadata": {},
     "output_type": "execute_result"
    }
   ],
   "source": [
    "lorenz28[:10]"
   ]
  },
  {
   "cell_type": "code",
   "execution_count": 130,
   "metadata": {},
   "outputs": [
    {
     "name": "stderr",
     "output_type": "stream",
     "text": [
      "/usr/local/lib/python3.6/site-packages/nolds/measures.py:240: RuntimeWarning: signal has very low mean frequency, setting min_tsep = 12500\n",
      "  warnings.warn(msg.format(min_tsep), RuntimeWarning)\n"
     ]
    },
    {
     "data": {
      "text/plain": [
       "0.10163723380633985"
      ]
     },
     "execution_count": 130,
     "metadata": {},
     "output_type": "execute_result"
    }
   ],
   "source": [
    "nolds.lyap_r(lorenz28[200000:250000],emb_dim=5)"
   ]
  },
  {
   "cell_type": "code",
   "execution_count": 131,
   "metadata": {},
   "outputs": [
    {
     "name": "stderr",
     "output_type": "stream",
     "text": [
      "/usr/local/lib/python3.6/site-packages/nolds/measures.py:240: RuntimeWarning: signal has very low mean frequency, setting min_tsep = 5000\n",
      "  warnings.warn(msg.format(min_tsep), RuntimeWarning)\n",
      "/usr/local/lib/python3.6/site-packages/nolds/measures.py:268: RuntimeWarning: autocorrelation declined too slowly to find suitable lag, setting lag to 2490\n",
      "  warnings.warn(msg.format(lag), RuntimeWarning)\n"
     ]
    },
    {
     "data": {
      "text/plain": [
       "0.0049152789168042665"
      ]
     },
     "execution_count": 131,
     "metadata": {},
     "output_type": "execute_result"
    }
   ],
   "source": [
    "nolds.lyap_r(fin[200000:220000],emb_dim=5)"
   ]
  },
  {
   "cell_type": "code",
   "execution_count": 38,
   "metadata": {},
   "outputs": [],
   "source": [
    "tl = lorenz28[100000:100010]"
   ]
  },
  {
   "cell_type": "code",
   "execution_count": 39,
   "metadata": {},
   "outputs": [],
   "source": [
    "inds = [0,2,4,6,8]"
   ]
  },
  {
   "cell_type": "code",
   "execution_count": 45,
   "metadata": {},
   "outputs": [
    {
     "data": {
      "text/plain": [
       "Text(0.5,0,'t')"
      ]
     },
     "execution_count": 45,
     "metadata": {},
     "output_type": "execute_result"
    },
    {
     "data": {
      "text/plain": [
       "<Figure size 720x2160 with 0 Axes>"
      ]
     },
     "metadata": {},
     "output_type": "display_data"
    },
    {
     "data": {
      "image/png": "[encoded data removed]",
      "text/plain": [
       "<Figure size 1440x360 with 1 Axes>"
      ]
     },
     "metadata": {},
     "output_type": "display_data"
    }
   ],
   "source": [
    "plt.figure(figsize=(10,30))\n",
    "fig, (ax1) = plt.subplots(nrows=1)\n",
    "fig.set_size_inches(20,5);\n",
    "ax1.plot(tl);\n",
    "for ind in inds:\n",
    "    plt.plot(ind,tl[ind],'g^',linewidth=16.0)\n",
    "    plt.plot(ind+1,tl[ind+1],'r^',linewidth=16.0)\n",
    "plt.xlabel('x')\n",
    "plt.xlabel('t')"
   ]
  },
  {
   "cell_type": "code",
   "execution_count": 36,
   "metadata": {},
   "outputs": [
    {
     "data": {
      "text/plain": [
       "Text(0.5,0,'t')"
      ]
     },
     "execution_count": 36,
     "metadata": {},
     "output_type": "execute_result"
    },
    {
     "data": {
      "text/plain": [
       "<Figure size 720x2160 with 0 Axes>"
      ]
     },
     "metadata": {},
     "output_type": "display_data"
    },
    {
     "data": {
      "image/png": "[encoded data removed]",
      "text/plain": [
       "<Figure size 1440x360 with 1 Axes>"
      ]
     },
     "metadata": {},
     "output_type": "display_data"
    }
   ],
   "source": [
    "plt.figure(figsize=(10,30))\n",
    "fig, (ax1) = plt.subplots(nrows=1)\n",
    "fig.set_size_inches(20,5);\n",
    "ax1.plot(lorenz28[100000:100010:2],'g^');\n",
    "ax1.set_title(\"t1\");\n",
    "plt.xlabel('x')\n",
    "plt.xlabel('t')"
   ]
  },
  {
   "cell_type": "code",
   "execution_count": 48,
   "metadata": {},
   "outputs": [],
   "source": [
    "def reconstruct(series):\n",
    "    return [series[i:i+5] for i in range(len(series)-5)]"
   ]
  },
  {
   "cell_type": "code",
   "execution_count": 49,
   "metadata": {},
   "outputs": [],
   "source": [
    "rec = reconstruct(lorenz28)"
   ]
  },
  {
   "cell_type": "code",
   "execution_count": 206,
   "metadata": {},
   "outputs": [],
   "source": [
    "rec_fin = reconstruct(fin)"
   ]
  },
  {
   "cell_type": "code",
   "execution_count": 56,
   "metadata": {},
   "outputs": [],
   "source": [
    "kt = KDTree(rec)"
   ]
  },
  {
   "cell_type": "code",
   "execution_count": 63,
   "metadata": {},
   "outputs": [],
   "source": [
    "ind = kt.query(rec[0],2)[1][1]"
   ]
  },
  {
   "cell_type": "code",
   "execution_count": 68,
   "metadata": {},
   "outputs": [
    {
     "data": {
      "text/plain": [
       "0.2995736674322706"
      ]
     },
     "execution_count": 68,
     "metadata": {},
     "output_type": "execute_result"
    }
   ],
   "source": [
    "euclidean(rec[0],rec[1])"
   ]
  },
  {
   "cell_type": "code",
   "execution_count": 225,
   "metadata": {},
   "outputs": [],
   "source": [
    "ks = []\n",
    "ds = []"
   ]
  },
  {
   "cell_type": "code",
   "execution_count": 226,
   "metadata": {},
   "outputs": [],
   "source": [
    "for i in range(5000):\n",
    "    ind = kt.query(rec[i],2)[1][1]\n",
    "    d0 = kt.query(rec[i],2)[0][1]\n",
    "    for k in range(0,15):\n",
    "        ks.append(k)\n",
    "        d = euclidean(rec_fin[i+k],rec_fin[ind+k])\n",
    "        ds.append(np.log(d/(0.01*d0)))"
   ]
  },
  {
   "cell_type": "code",
   "execution_count": 227,
   "metadata": {},
   "outputs": [],
   "source": [
    "mat = np.array(ds).T"
   ]
  },
  {
   "cell_type": "code",
   "execution_count": 228,
   "metadata": {},
   "outputs": [
    {
     "data": {
      "text/plain": [
       "array([1.47353292])"
      ]
     },
     "execution_count": 228,
     "metadata": {},
     "output_type": "execute_result"
    }
   ],
   "source": [
    "np.linalg.lstsq(np.array(ks).reshape(-1,1), mat, rcond=None)[0]"
   ]
  },
  {
   "cell_type": "code",
   "execution_count": null,
   "metadata": {},
   "outputs": [],
   "source": []
  }
 ],
 "metadata": {
  "kernelspec": {
   "display_name": "Python 3",
   "language": "python",
   "name": "python3"
  },
  "language_info": {
   "codemirror_mode": {
    "name": "ipython",
    "version": 3
   },
   "file_extension": ".py",
   "mimetype": "text/x-python",
   "name": "python",
   "nbconvert_exporter": "python",
   "pygments_lexer": "ipython3",
   "version": "3.6.5"
  }
 },
 "nbformat": 4,
 "nbformat_minor": 2
}
