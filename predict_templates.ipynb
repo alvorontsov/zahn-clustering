{
 "cells": [
  {
   "cell_type": "code",
   "execution_count": 1,
   "metadata": {},
   "outputs": [],
   "source": [
    "import networkx as nx\n",
    "import numpy as np \n",
    "from matplotlib import pyplot as plt\n",
    "import collections\n",
    "from sklearn.metrics.pairwise import euclidean_distances\n",
    "from sklearn.cluster import KMeans\n",
    "from scipy.sparse import dok_matrix\n",
    "from scipy.sparse import csgraph\n",
    "import time\n",
    "from scipy.spatial import KDTree\n",
    "from scipy.spatial import cKDTree\n",
    "from scipy.sparse.csgraph import minimum_spanning_tree\n",
    "import scipy.sparse as sps\n",
    "import json\n",
    "import pickle\n",
    "import seaborn as sns\n",
    "from zahn import Zahn\n",
    "from template import Template_5"
   ]
  },
  {
   "cell_type": "markdown",
   "metadata": {},
   "source": [
    "# Load TS and algorithms"
   ]
  },
  {
   "cell_type": "code",
   "execution_count": 2,
   "metadata": {},
   "outputs": [],
   "source": [
    "with open('data/series.json') as fp:\n",
    "    series_26 = json.load(fp)"
   ]
  },
  {
   "cell_type": "code",
   "execution_count": 3,
   "metadata": {},
   "outputs": [],
   "source": [
    "with open('fitted/zahn_1111', 'rb') as fp:\n",
    "    zahn_1111 = pickle.load(fp)"
   ]
  },
  {
   "cell_type": "code",
   "execution_count": 4,
   "metadata": {},
   "outputs": [],
   "source": [
    "with open('fitted/zahn_1112', 'rb') as fp:\n",
    "    zahn_1112 = pickle.load(fp)"
   ]
  },
  {
   "cell_type": "code",
   "execution_count": 5,
   "metadata": {},
   "outputs": [],
   "source": [
    "with open('fitted/zahn_1121', 'rb') as fp:\n",
    "    zahn_1121 = pickle.load(fp)"
   ]
  },
  {
   "cell_type": "code",
   "execution_count": 6,
   "metadata": {},
   "outputs": [],
   "source": [
    "with open('fitted/zahn_1211', 'rb') as fp:\n",
    "    zahn_1211 = pickle.load(fp)"
   ]
  },
  {
   "cell_type": "code",
   "execution_count": 7,
   "metadata": {},
   "outputs": [],
   "source": [
    "with open('fitted/zahn_2111', 'rb') as fp:\n",
    "    zahn_2111 = pickle.load(fp)"
   ]
  },
  {
   "cell_type": "code",
   "execution_count": 8,
   "metadata": {},
   "outputs": [],
   "source": [
    "with open('fitted/zahn_1122', 'rb') as fp:\n",
    "    zahn_1122 = pickle.load(fp)"
   ]
  },
  {
   "cell_type": "code",
   "execution_count": 9,
   "metadata": {},
   "outputs": [],
   "source": [
    "with open('fitted/zahn_1221', 'rb') as fp:\n",
    "    zahn_1221 = pickle.load(fp)"
   ]
  },
  {
   "cell_type": "code",
   "execution_count": 10,
   "metadata": {},
   "outputs": [],
   "source": [
    "with open('fitted/zahn_2211', 'rb') as fp:\n",
    "    zahn_2211 = pickle.load(fp)"
   ]
  },
  {
   "cell_type": "code",
   "execution_count": 11,
   "metadata": {},
   "outputs": [],
   "source": [
    "with open('fitted/zahn_1222', 'rb') as fp:\n",
    "    zahn_1222 = pickle.load(fp)"
   ]
  },
  {
   "cell_type": "code",
   "execution_count": 12,
   "metadata": {},
   "outputs": [],
   "source": [
    "with open('fitted/zahn_2221', 'rb') as fp:\n",
    "    zahn_2221 = pickle.load(fp)"
   ]
  },
  {
   "cell_type": "code",
   "execution_count": null,
   "metadata": {},
   "outputs": [],
   "source": [
    "with open('fitted/zahn_3333', 'rb') as fp:\n",
    "    zahn_3333 = pickle.load(fp)"
   ]
  },
  {
   "cell_type": "code",
   "execution_count": null,
   "metadata": {},
   "outputs": [],
   "source": [
    "with open('fitted/zahn_4444', 'rb') as fp:\n",
    "    zahn_4444 = pickle.load(fp)"
   ]
  },
  {
   "cell_type": "code",
   "execution_count": null,
   "metadata": {},
   "outputs": [],
   "source": [
    "with open('fitted/zahn_5555', 'rb') as fp:\n",
    "    zahn_5555 = pickle.load(fp)"
   ]
  },
  {
   "cell_type": "code",
   "execution_count": null,
   "metadata": {},
   "outputs": [],
   "source": [
    "with open('fitted/zahn_6666', 'rb') as fp:\n",
    "    zahn_6666 = pickle.load(fp)"
   ]
  },
  {
   "cell_type": "code",
   "execution_count": null,
   "metadata": {},
   "outputs": [],
   "source": [
    "with open('fitted/zahn_7777', 'rb') as fp:\n",
    "    zahn_7777 = pickle.load(fp)"
   ]
  },
  {
   "cell_type": "code",
   "execution_count": null,
   "metadata": {},
   "outputs": [],
   "source": [
    "with open('fitted/zahn_8888', 'rb') as fp:\n",
    "    zahn_8888 = pickle.load(fp)"
   ]
  },
  {
   "cell_type": "code",
   "execution_count": null,
   "metadata": {},
   "outputs": [],
   "source": [
    "with open('fitted/zahn_9999', 'rb') as fp:\n",
    "    zahn_9999 = pickle.load(fp)"
   ]
  },
  {
   "cell_type": "code",
   "execution_count": 13,
   "metadata": {},
   "outputs": [
    {
     "data": {
      "text/plain": [
       "1"
      ]
     },
     "execution_count": 13,
     "metadata": {},
     "output_type": "execute_result"
    }
   ],
   "source": [
    "zahn_1111.template.n1"
   ]
  },
  {
   "cell_type": "code",
   "execution_count": null,
   "metadata": {},
   "outputs": [],
   "source": []
  },
  {
   "cell_type": "code",
   "execution_count": 13,
   "metadata": {},
   "outputs": [],
   "source": [
    "def get_averages(zahn):\n",
    "    comp_fifth_avg = []\n",
    "    comp_four = []\n",
    "    for component in zahn.clusters:\n",
    "        comp_fifth_avg.append(np.mean([i[-1] for i in component]))\n",
    "        comp = []\n",
    "        for vec in component:\n",
    "            comp.append(vec[:-1])\n",
    "        comp_four.append(np.array(comp))\n",
    "    centers = np.array([np.mean(x,axis=0) for x in comp_four])\n",
    "    zahn.comp_fifth_avg = comp_fifth_avg\n",
    "    zahn.comp_four = comp_four\n",
    "    zahn.centers = centers\n",
    "    zahn.centers_ktree = cKDTree(data=centers)"
   ]
  },
  {
   "cell_type": "code",
   "execution_count": 14,
   "metadata": {},
   "outputs": [
    {
     "data": {
      "text/plain": [
       "5"
      ]
     },
     "execution_count": 14,
     "metadata": {},
     "output_type": "execute_result"
    }
   ],
   "source": [
    "len(zahn_1111.clusters[0][0])"
   ]
  },
  {
   "cell_type": "code",
   "execution_count": 16,
   "metadata": {},
   "outputs": [],
   "source": [
    "def get_average_poind_distance(zahn):\n",
    "    dists = []\n",
    "    for component in zahn.clusters:\n",
    "        for vec in component:\n",
    "            for i in range(1,5):\n",
    "                dists.append(abs(vec[i]-vec[i-1]))\n",
    "    return np.mean(dists)"
   ]
  },
  {
   "cell_type": "code",
   "execution_count": null,
   "metadata": {},
   "outputs": [],
   "source": [
    "get_averages(zahn_1111)\n",
    "\n"
   ]
  },
  {
   "cell_type": "code",
   "execution_count": 15,
   "metadata": {},
   "outputs": [],
   "source": [
    "get_averages(zahn_1111)\n",
    "get_averages(zahn_1112)\n",
    "get_averages(zahn_1121)\n",
    "get_averages(zahn_1211)\n",
    "get_averages(zahn_2111)\n",
    "get_averages(zahn_1122)\n",
    "get_averages(zahn_1221)\n",
    "get_averages(zahn_2211)\n",
    "get_averages(zahn_1222)\n",
    "get_averages(zahn_2221)\n"
   ]
  },
  {
   "cell_type": "code",
   "execution_count": null,
   "metadata": {},
   "outputs": [],
   "source": [
    "get_averages(zahn_3333)\n",
    "get_averages(zahn_4444)\n",
    "get_averages(zahn_5555)\n",
    "get_averages(zahn_6666)\n",
    "get_averages(zahn_7777)\n",
    "get_averages(zahn_8888)\n",
    "get_averages(zahn_9999)"
   ]
  },
  {
   "cell_type": "code",
   "execution_count": 16,
   "metadata": {},
   "outputs": [],
   "source": [
    "test = series_26[749993:]\n",
    "# starting point 750k\n",
    "start_ind = 107"
   ]
  },
  {
   "cell_type": "code",
   "execution_count": 19,
   "metadata": {},
   "outputs": [],
   "source": [
    "algos = [zahn_1111]"
   ]
  },
  {
   "cell_type": "code",
   "execution_count": 17,
   "metadata": {},
   "outputs": [],
   "source": [
    "algos = [\n",
    "    zahn_1111,\n",
    "    zahn_1112,\n",
    "    zahn_1121,\n",
    "    zahn_1211,\n",
    "    zahn_2111,\n",
    "    zahn_1122,\n",
    "    zahn_1221,\n",
    "    zahn_2211,\n",
    "    zahn_1222,\n",
    "    zahn_2221,\n",
    "    #zahn_3333,\n",
    "    #zahn_4444,\n",
    "    #zahn_5555,\n",
    "    #zahn_6666,\n",
    "    #zahn_7777,\n",
    "    #zahn_8888,\n",
    "    #zahn_9999\n",
    "]"
   ]
  },
  {
   "cell_type": "code",
   "execution_count": 18,
   "metadata": {},
   "outputs": [
    {
     "data": {
      "text/plain": [
       "10"
      ]
     },
     "execution_count": 18,
     "metadata": {},
     "output_type": "execute_result"
    }
   ],
   "source": [
    "len(algos)"
   ]
  },
  {
   "cell_type": "code",
   "execution_count": 19,
   "metadata": {},
   "outputs": [
    {
     "ename": "NameError",
     "evalue": "name 'get_average_poind_distance' is not defined",
     "output_type": "error",
     "traceback": [
      "\u001b[0;31m---------------------------------------------------------------------------\u001b[0m",
      "\u001b[0;31mNameError\u001b[0m                                 Traceback (most recent call last)",
      "\u001b[0;32m<ipython-input-19-55297f13cb7b>\u001b[0m in \u001b[0;36m<module>\u001b[0;34m()\u001b[0m\n\u001b[0;32m----> 1\u001b[0;31m \u001b[0mavg_dists\u001b[0m \u001b[0;34m=\u001b[0m \u001b[0;34m[\u001b[0m\u001b[0mget_average_poind_distance\u001b[0m\u001b[0;34m(\u001b[0m\u001b[0mx\u001b[0m\u001b[0;34m)\u001b[0m \u001b[0;32mfor\u001b[0m \u001b[0mx\u001b[0m \u001b[0;32min\u001b[0m \u001b[0malgos\u001b[0m\u001b[0;34m]\u001b[0m\u001b[0;34m\u001b[0m\u001b[0m\n\u001b[0m",
      "\u001b[0;32m<ipython-input-19-55297f13cb7b>\u001b[0m in \u001b[0;36m<listcomp>\u001b[0;34m(.0)\u001b[0m\n\u001b[0;32m----> 1\u001b[0;31m \u001b[0mavg_dists\u001b[0m \u001b[0;34m=\u001b[0m \u001b[0;34m[\u001b[0m\u001b[0mget_average_poind_distance\u001b[0m\u001b[0;34m(\u001b[0m\u001b[0mx\u001b[0m\u001b[0;34m)\u001b[0m \u001b[0;32mfor\u001b[0m \u001b[0mx\u001b[0m \u001b[0;32min\u001b[0m \u001b[0malgos\u001b[0m\u001b[0;34m]\u001b[0m\u001b[0;34m\u001b[0m\u001b[0m\n\u001b[0m",
      "\u001b[0;31mNameError\u001b[0m: name 'get_average_poind_distance' is not defined"
     ]
    }
   ],
   "source": [
    "avg_dists = [get_average_poind_distance(x) for x in algos]"
   ]
  },
  {
   "cell_type": "code",
   "execution_count": null,
   "metadata": {},
   "outputs": [],
   "source": [
    "avg_dists"
   ]
  },
  {
   "cell_type": "code",
   "execution_count": 24,
   "metadata": {},
   "outputs": [
    {
     "name": "stdout",
     "output_type": "stream",
     "text": [
      "25.042153484071616 894\n",
      "24.71713214541472 720\n",
      "24.759968202167272 873\n",
      "24.484148307361632 820\n",
      "24.89450291416831 826\n",
      "24.038048861010235 1381\n",
      "24.033267212166294 891\n",
      "24.10320065654493 766\n",
      "23.846112333430195 1447\n",
      "23.968612105569893 2136\n"
     ]
    }
   ],
   "source": [
    "for algo in algos:\n",
    "    clusters = [len(x) for x in algo.clusters]\n",
    "    print(np.mean(clusters), np.max(clusters))"
   ]
  },
  {
   "cell_type": "code",
   "execution_count": 25,
   "metadata": {},
   "outputs": [
    {
     "data": {
      "text/plain": [
       "[9.003825728926806, 0.19644664325328165, -9.23337320456448, -6.791052079933629]"
      ]
     },
     "execution_count": 25,
     "metadata": {},
     "output_type": "execute_result"
    }
   ],
   "source": [
    "series_26[20-3*4:20:3]"
   ]
  },
  {
   "cell_type": "code",
   "execution_count": 26,
   "metadata": {},
   "outputs": [
    {
     "data": {
      "text/plain": [
       "[0.17450535575235093,\n",
       " 0.05839779137295202,\n",
       " 0.0440992367971854,\n",
       " 0.07365239735349076,\n",
       " 0.16709482839859596,\n",
       " 0.42488173619505915,\n",
       " 1.1512027438326828,\n",
       " 3.2420943890612737,\n",
       " 9.003825728926806,\n",
       " 17.738817135348246,\n",
       " 10.85671527650478,\n",
       " 0.19644664325328165,\n",
       " -3.639546692654738,\n",
       " -6.10234542743075,\n",
       " -9.23337320456448,\n",
       " -11.602296265054646,\n",
       " -10.122545894729798,\n",
       " -6.791052079933629,\n",
       " -5.085939533368512,\n",
       " -5.540926342565781,\n",
       " -7.790132496015106]"
      ]
     },
     "execution_count": 26,
     "metadata": {},
     "output_type": "execute_result"
    }
   ],
   "source": [
    "series_26[:21]"
   ]
  },
  {
   "cell_type": "code",
   "execution_count": 25,
   "metadata": {},
   "outputs": [],
   "source": [
    "def get_zvec_for_template(series,i,t):\n",
    "    s = t.n1 + t.n2 + t.n3 + t.n4\n",
    "    i4 = i - s\n",
    "    i3 = i - t.n2 - t.n3 - t.n4\n",
    "    i2 = i - t.n3 - t.n4\n",
    "    i1 = i - t.n4\n",
    "    vec = np.array([series[i4],series[i3],series[i2],series[i1]])\n",
    "    return vec"
   ]
  },
  {
   "cell_type": "code",
   "execution_count": 26,
   "metadata": {},
   "outputs": [],
   "source": [
    "def get_zvecs_for_algos(series,i,algos):\n",
    "    return [get_zvec_for_template(series,i,a.template) for a in algos]"
   ]
  },
  {
   "cell_type": "code",
   "execution_count": 27,
   "metadata": {},
   "outputs": [
    {
     "data": {
      "text/plain": [
       "[array([ 5.73317892, 11.56599511, 14.61231135,  8.68883898]),\n",
       " array([ 2.81451541,  5.73317892, 11.56599511, 14.61231135]),\n",
       " array([ 2.81451541,  5.73317892, 11.56599511,  8.68883898]),\n",
       " array([ 2.81451541,  5.73317892, 14.61231135,  8.68883898]),\n",
       " array([ 2.81451541, 11.56599511, 14.61231135,  8.68883898]),\n",
       " array([ 1.73429277,  2.81451541,  5.73317892, 14.61231135]),\n",
       " array([ 1.73429277,  2.81451541, 11.56599511,  8.68883898]),\n",
       " array([ 1.73429277,  5.73317892, 14.61231135,  8.68883898]),\n",
       " array([ 1.92326286,  1.73429277,  5.73317892, 14.61231135]),\n",
       " array([ 1.92326286,  2.81451541, 11.56599511,  8.68883898])]"
      ]
     },
     "execution_count": 27,
     "metadata": {},
     "output_type": "execute_result"
    }
   ],
   "source": [
    "get_zvecs_for_algos(series_26,400,algos)"
   ]
  },
  {
   "cell_type": "code",
   "execution_count": 52,
   "metadata": {},
   "outputs": [
    {
     "data": {
      "text/plain": [
       "[[5.733178918007049, 11.565995106874393, 14.612311347142604, 8.68883898286062],\n",
       " [2.8145154083330493,\n",
       "  5.733178918007049,\n",
       "  11.565995106874393,\n",
       "  14.612311347142604],\n",
       " array([ 2.81451541,  5.73317892, 11.56599511,  8.68883898]),\n",
       " array([ 2.81451541,  5.73317892, 14.61231135,  8.68883898]),\n",
       " array([ 2.81451541, 11.56599511, 14.61231135,  8.68883898]),\n",
       " array([ 1.73429277,  2.81451541,  5.73317892, 14.61231135]),\n",
       " array([ 1.73429277,  2.81451541, 11.56599511,  8.68883898]),\n",
       " array([ 1.73429277,  5.73317892, 14.61231135,  8.68883898]),\n",
       " array([ 1.92326286,  1.73429277,  5.73317892, 14.61231135]),\n",
       " array([ 1.92326286,  2.81451541, 11.56599511,  8.68883898])]"
      ]
     },
     "execution_count": 52,
     "metadata": {},
     "output_type": "execute_result"
    }
   ],
   "source": [
    "get_zvecs_for_prediction(series_26,400)"
   ]
  },
  {
   "cell_type": "code",
   "execution_count": null,
   "metadata": {},
   "outputs": [],
   "source": [
    "def get_zvecs_for_prediction(series,i,short=False):\n",
    "    vec_1111 = series[i-4:i]\n",
    "    vec_1112 = series[i-5:i-1]\n",
    "    vec_1121 = np.array([series[i-5],series[i-4],series[i-3],series[i-1]])\n",
    "    vec_1211 = np.array([series[i-5],series[i-4],series[i-2],series[i-1]])\n",
    "    vec_2111 = np.array([series[i-5],series[i-3],series[i-2],series[i-1]])\n",
    "    vec_1122 = np.array([series[i-6],series[i-5],series[i-4],series[i-2]])\n",
    "    vec_1221 = np.array([series[i-6],series[i-5],series[i-3],series[i-1]])\n",
    "    vec_2211 = np.array([series[i-6],series[i-4],series[i-2],series[i-1]])\n",
    "    vec_1222 = np.array([series[i-7],series[i-6],series[i-4],series[i-2]])\n",
    "    vec_2221 = np.array([series[i-7],series[i-5],series[i-3],series[i-1]])\n",
    "    vec_3333 = series[i-3*4:i:3]\n",
    "    vec_4444 = series[i-4*4:i:4]\n",
    "    vec_5555 = series[i-5*4:i:5]\n",
    "    vec_6666 = series[i-6*4:i:6]\n",
    "    vec_7777 = series[i-7*4:i:7]\n",
    "    vec_8888 = series[i-8*4:i:8]\n",
    "    vec_9999 = series[i-9*4:i:9]\n",
    "    vecs = [vec_1111,vec_1112,vec_1121,vec_1211,vec_2111,vec_1122,vec_1221,vec_2211,vec_1222,vec_2221]#,vec_3333,vec_4444,vec_5555,vec_6666,vec_7777,vec_8888,vec_9999]\n",
    "    if short:\n",
    "        vecs = vecs[:-2]\n",
    "    return vecs"
   ]
  },
  {
   "cell_type": "code",
   "execution_count": 20,
   "metadata": {},
   "outputs": [],
   "source": [
    "def predict_zvec(zahn,zvec):\n",
    "    dist,ind = zahn.centers_ktree.query(zvec)\n",
    "    pred = zahn.comp_fifth_avg[ind]\n",
    "    return pred, dist"
   ]
  },
  {
   "cell_type": "code",
   "execution_count": 21,
   "metadata": {},
   "outputs": [],
   "source": [
    "def predict_point(series,i,short=False):\n",
    "    min_dist = 100000\n",
    "    cur_pred = 0\n",
    "    zvecs_list = get_zvecs_for_algos(series,i,algos)\n",
    "    for i in range(len(zvecs_list)):\n",
    "        pred, dist = predict_zvec(algos[i],zvecs_list[i])\n",
    "        if dist < min_dist:\n",
    "            min_dist = dist\n",
    "            cur_pred = pred\n",
    "    return cur_pred,min_dist"
   ]
  },
  {
   "cell_type": "code",
   "execution_count": 22,
   "metadata": {},
   "outputs": [],
   "source": [
    "def predict_point_avg(series,i):\n",
    "    preds = []\n",
    "    dists = []\n",
    "    zvecs_list = get_zvecs_for_algos(series,i,algos)\n",
    "    for i in range(len(zvecs_list)):\n",
    "        pred, dist = predict_zvec(algos[i],zvecs_list[i])\n",
    "        preds.append(pred)\n",
    "        dists.append(dist)\n",
    "    return np.mean(preds), np.mean(dists)"
   ]
  },
  {
   "cell_type": "code",
   "execution_count": 23,
   "metadata": {},
   "outputs": [],
   "source": [
    "def predict_point_avg_with_errors(series,i,eps=1.2):\n",
    "    preds = []\n",
    "    dists = []\n",
    "    zvecs_list = get_zvecs_for_algos(series,i, algos)\n",
    "    for i in range(len(zvecs_list)):\n",
    "        pred, dist = predict_zvec(algos[i],zvecs_list[i])\n",
    "        if dist < eps*avg_dists[i]:\n",
    "            preds.append(pred)\n",
    "            dists.append(dist)\n",
    "    return np.mean(preds), np.mean(dists)"
   ]
  },
  {
   "cell_type": "code",
   "execution_count": 28,
   "metadata": {},
   "outputs": [
    {
     "data": {
      "text/plain": [
       "(2.1834447740871132, 0.15387557888279804)"
      ]
     },
     "execution_count": 28,
     "metadata": {},
     "output_type": "execute_result"
    }
   ],
   "source": [
    "predict_point_avg(test,500)"
   ]
  },
  {
   "cell_type": "code",
   "execution_count": 29,
   "metadata": {},
   "outputs": [
    {
     "data": {
      "text/plain": [
       "2.1566097514564335"
      ]
     },
     "execution_count": 29,
     "metadata": {},
     "output_type": "execute_result"
    }
   ],
   "source": [
    "test[500]"
   ]
  },
  {
   "cell_type": "code",
   "execution_count": 30,
   "metadata": {},
   "outputs": [],
   "source": [
    "preds_len = 2000"
   ]
  },
  {
   "cell_type": "code",
   "execution_count": 41,
   "metadata": {},
   "outputs": [],
   "source": [
    "def get_preds(series,start,n=20):\n",
    "    preds = []\n",
    "    dists = []\n",
    "    errors = []\n",
    "    sq_errors = []\n",
    "    step = 0\n",
    "    series_dummy = series[:start]\n",
    "    for i in range(start,start+preds_len):\n",
    "        if step >= n:\n",
    "            preds.append(series[i])\n",
    "            series_dummy.append(series[i])\n",
    "            step += 1\n",
    "            if step == n + 7:\n",
    "                step = 0\n",
    "        else:\n",
    "            pred, dist = predict_point_avg(series_dummy,i)\n",
    "            dists.append(dist)\n",
    "            preds.append(pred)\n",
    "            errors.append(abs(series[i]-pred) / max(series))\n",
    "            mse = (series[i] / max(series) - pred/ max(series))**2\n",
    "            sq_errors.append(mse)\n",
    "            series_dummy.append(pred)\n",
    "            step += 1\n",
    "    return preds, dists, np.mean(errors), np.mean(sq_errors), np.mean(sq_errors)**(1/2)"
   ]
  },
  {
   "cell_type": "code",
   "execution_count": 32,
   "metadata": {},
   "outputs": [],
   "source": [
    "def get_preds_and_errors(series,start,n=50):\n",
    "    preds = []\n",
    "    dists = []\n",
    "    errors = []\n",
    "    step = 0\n",
    "    steps = []\n",
    "    series_dummy = series[:start]\n",
    "    for i in range(start,start+preds_len):\n",
    "        if step >= n:\n",
    "            preds.append(series[i])\n",
    "            series_dummy.append(series[i])\n",
    "            step += 1\n",
    "            if step == n + 7:\n",
    "                step = 0\n",
    "        else:\n",
    "            pred, dist = predict_point_avg(series_dummy,i)\n",
    "            dists.append(dist)\n",
    "            preds.append(pred)\n",
    "            errors.append(abs(series[i]-pred) / max(series))\n",
    "            series_dummy.append(pred)\n",
    "            step += 1\n",
    "            steps.append(step)\n",
    "    return preds, dists, errors, steps"
   ]
  },
  {
   "cell_type": "code",
   "execution_count": null,
   "metadata": {},
   "outputs": [],
   "source": []
  },
  {
   "cell_type": "code",
   "execution_count": null,
   "metadata": {},
   "outputs": [],
   "source": []
  },
  {
   "cell_type": "code",
   "execution_count": null,
   "metadata": {},
   "outputs": [],
   "source": []
  },
  {
   "cell_type": "code",
   "execution_count": 42,
   "metadata": {},
   "outputs": [],
   "source": [
    "preds, dists, mae, mse, rmse = get_preds(test,start_ind)"
   ]
  },
  {
   "cell_type": "code",
   "execution_count": 46,
   "metadata": {},
   "outputs": [
    {
     "data": {
      "text/plain": [
       "0.1382236878449839"
      ]
     },
     "execution_count": 46,
     "metadata": {},
     "output_type": "execute_result"
    }
   ],
   "source": [
    "np.mean(rmse)"
   ]
  },
  {
   "cell_type": "code",
   "execution_count": 34,
   "metadata": {},
   "outputs": [
    {
     "name": "stderr",
     "output_type": "stream",
     "text": [
      "/usr/local/lib/python3.6/site-packages/matplotlib/axes/_axes.py:6462: UserWarning: The 'normed' kwarg is deprecated, and has been replaced by the 'density' kwarg.\n",
      "  warnings.warn(\"The 'normed' kwarg is deprecated, and has been \"\n"
     ]
    },
    {
     "data": {
      "text/plain": [
       "<matplotlib.axes._subplots.AxesSubplot at 0x12c279278>"
      ]
     },
     "execution_count": 34,
     "metadata": {},
     "output_type": "execute_result"
    },
    {
     "data": {
      "image/png": "[encoded data removed]",
      "text/plain": [
       "<Figure size 432x288 with 1 Axes>"
      ]
     },
     "metadata": {},
     "output_type": "display_data"
    }
   ],
   "source": [
    "sns.distplot(dists)"
   ]
  },
  {
   "cell_type": "code",
   "execution_count": 35,
   "metadata": {},
   "outputs": [
    {
     "data": {
      "text/plain": [
       "18.668867657485308"
      ]
     },
     "execution_count": 35,
     "metadata": {},
     "output_type": "execute_result"
    }
   ],
   "source": [
    "max(test)"
   ]
  },
  {
   "cell_type": "code",
   "execution_count": 36,
   "metadata": {},
   "outputs": [
    {
     "data": {
      "text/plain": [
       "-18.342024814279775"
      ]
     },
     "execution_count": 36,
     "metadata": {},
     "output_type": "execute_result"
    }
   ],
   "source": [
    "min(test)"
   ]
  },
  {
   "cell_type": "code",
   "execution_count": 37,
   "metadata": {},
   "outputs": [],
   "source": [
    "vals = [i for i in range(5,55,5)]\n",
    "maes = []\n",
    "mses = []\n",
    "rmses = []\n",
    "for val in vals:\n",
    "    preds,dists, mae, mse, rmse = get_preds(test, start_ind,n=val)\n",
    "    maes.append(mae)\n",
    "    mses.append(mse)\n",
    "    rmses.append(rmse)"
   ]
  },
  {
   "cell_type": "code",
   "execution_count": 38,
   "metadata": {},
   "outputs": [
    {
     "data": {
      "text/plain": [
       "[<matplotlib.lines.Line2D at 0x128f63128>]"
      ]
     },
     "execution_count": 38,
     "metadata": {},
     "output_type": "execute_result"
    },
    {
     "data": {
      "image/png": "[encoded data removed]",
      "text/plain": [
       "<Figure size 432x288 with 1 Axes>"
      ]
     },
     "metadata": {},
     "output_type": "display_data"
    }
   ],
   "source": [
    "plt.plot(vals,maes)"
   ]
  },
  {
   "cell_type": "code",
   "execution_count": 43,
   "metadata": {},
   "outputs": [
    {
     "data": {
      "image/png": "[encoded data removed]",
      "text/plain": [
       "<Figure size 1440x720 with 1 Axes>"
      ]
     },
     "metadata": {},
     "output_type": "display_data"
    }
   ],
   "source": [
    "plt.figure(figsize=(20,10))\n",
    "plt.plot([i for i in range(100)], preds[:100], label='predictions')\n",
    "plt.plot([i for i in range(100)], test[start_ind:start_ind+100], label='series28')\n",
    "plt.title('Preds vs original data')\n",
    "plt.ylabel('value')\n",
    "plt.legend()\n",
    "plt.show()"
   ]
  },
  {
   "cell_type": "code",
   "execution_count": null,
   "metadata": {},
   "outputs": [],
   "source": [
    "def mse(true,pred):\n",
    "    mse_ = 0\n",
    "    for i in range(len(true)):\n",
    "        mse_ += (true[i]-pred[i])**2\n",
    "    return mse_/len(true)"
   ]
  },
  {
   "cell_type": "code",
   "execution_count": null,
   "metadata": {},
   "outputs": [],
   "source": [
    "from sklearn.metrics import mean_absolute_error"
   ]
  },
  {
   "cell_type": "code",
   "execution_count": null,
   "metadata": {},
   "outputs": [],
   "source": [
    "mean_absolute_error(test[start_ind:start_ind+preds_len], preds)"
   ]
  },
  {
   "cell_type": "code",
   "execution_count": null,
   "metadata": {},
   "outputs": [],
   "source": [
    "test[7:17]"
   ]
  },
  {
   "cell_type": "code",
   "execution_count": null,
   "metadata": {},
   "outputs": [],
   "source": [
    "from seaborn import distplot"
   ]
  },
  {
   "cell_type": "code",
   "execution_count": null,
   "metadata": {},
   "outputs": [],
   "source": [
    "distplot(dists)"
   ]
  },
  {
   "cell_type": "code",
   "execution_count": 50,
   "metadata": {},
   "outputs": [],
   "source": [
    "def predict_point_eps(series,i,eps, true_val):\n",
    "    min_dist = 100000\n",
    "    cur_pred = 0\n",
    "    zvecs_list = get_zvecs_for_algos(series,i,algos)\n",
    "    preds = []\n",
    "    dists = []\n",
    "    eps_holds = []\n",
    "    for i in range(len(zvecs_list)):\n",
    "        pred, dist = predict_zvec(algos[i],zvecs_list[i])\n",
    "        preds.append(pred)\n",
    "        dists.append(dist)\n",
    "        eps_hold = 1*(abs(true_val - pred) < eps)\n",
    "        eps_holds.append(eps_hold)\n",
    "        if dist < min_dist:\n",
    "            min_dist = dist\n",
    "            cur_pred = pred\n",
    "    if sum(eps_holds) == 0:\n",
    "        return cur_pred,min_dist\n",
    "    inds = np.where(np.array(eps_holds) > 0)[0]\n",
    "    dists = [dists[i] for i in inds]\n",
    "    preds = [preds[i] for i in inds]\n",
    "    return np.mean(preds), np.mean(dists)"
   ]
  },
  {
   "cell_type": "code",
   "execution_count": 51,
   "metadata": {},
   "outputs": [],
   "source": [
    "def get_preds_eps(series,start,n=20,eps=0.2):\n",
    "    preds = []\n",
    "    dists = []\n",
    "    errors = []\n",
    "    sq_errors = []\n",
    "    step = 0\n",
    "    series_dummy = series[:start]\n",
    "    for i in range(start,start+preds_len):\n",
    "        if step >= n:\n",
    "            preds.append(series[i])\n",
    "            series_dummy.append(series[i])\n",
    "            step += 1\n",
    "            if step == n + 7:\n",
    "                step = 0\n",
    "        else:\n",
    "            pred, dist = predict_point_eps(series_dummy,i,eps, series[i])\n",
    "            dists.append(dist)\n",
    "            preds.append(pred)\n",
    "            errors.append(abs(series[i]-pred) / max(series))\n",
    "            mse = (series[i] / max(series) - pred/max(series))**2\n",
    "            sq_errors.append(mse)\n",
    "            series_dummy.append(pred)\n",
    "            step += 1\n",
    "    return preds, dists, np.mean(errors), np.mean(sq_errors), np.mean(sq_errors)**(1/2)"
   ]
  },
  {
   "cell_type": "code",
   "execution_count": 52,
   "metadata": {},
   "outputs": [],
   "source": [
    "preds_eps, dists_eps, mae_eps, mse_eps, rmse_eps = get_preds_eps(test,start_ind,n=50,eps=0.2)"
   ]
  },
  {
   "cell_type": "code",
   "execution_count": null,
   "metadata": {},
   "outputs": [],
   "source": [
    "plt.figure(figsize=(20,10))\n",
    "plt.plot([i for i in range(preds_len)], preds_eps[:preds_len], label='predictions')\n",
    "plt.plot([i for i in range(preds_len)], test[start_ind:start_ind+preds_len], label='series28')\n",
    "plt.title('Preds vs original data')\n",
    "plt.ylabel('value')\n",
    "plt.legend()\n",
    "plt.show()"
   ]
  },
  {
   "cell_type": "code",
   "execution_count": 53,
   "metadata": {},
   "outputs": [],
   "source": [
    "vals = [i for i in range(5,55,5)]\n",
    "maes_eps_02 = []\n",
    "mses_eps_02 = []\n",
    "rmses_eps_02 = []\n",
    "for val in vals:\n",
    "    preds,dists, mae, mse, rmse = get_preds_eps(test, start_ind,n=val,eps=0.2)\n",
    "    maes_eps_02.append(mae)\n",
    "    mses_eps_02.append(mse)\n",
    "    rmses_eps_02.append(rmse)"
   ]
  },
  {
   "cell_type": "code",
   "execution_count": 55,
   "metadata": {},
   "outputs": [
    {
     "data": {
      "text/plain": [
       "[<matplotlib.lines.Line2D at 0x13e5dbfd0>]"
      ]
     },
     "execution_count": 55,
     "metadata": {},
     "output_type": "execute_result"
    },
    {
     "data": {
      "image/png": "[encoded data removed]",
      "text/plain": [
       "<Figure size 432x288 with 1 Axes>"
      ]
     },
     "metadata": {},
     "output_type": "display_data"
    }
   ],
   "source": [
    "plt.plot(vals,maes_eps_02)"
   ]
  },
  {
   "cell_type": "code",
   "execution_count": 56,
   "metadata": {},
   "outputs": [],
   "source": [
    "vals = [i for i in range(5,55,5)]\n",
    "maes_eps_01 = []\n",
    "mses_eps_01 = []\n",
    "rmses_eps_01 = []\n",
    "for val in vals:\n",
    "    preds,dists, mae, mse, rmse = get_preds_eps(test, start_ind,n=val,eps=0.1)\n",
    "    maes_eps_01.append(mae)\n",
    "    mses_eps_01.append(mse)\n",
    "    rmses_eps_01.append(rmse)"
   ]
  },
  {
   "cell_type": "code",
   "execution_count": 58,
   "metadata": {},
   "outputs": [],
   "source": [
    "vals = [i for i in range(5,55,5)]\n",
    "maes_eps_005 = []\n",
    "mses_eps_005 = []\n",
    "rmses_eps_005 = []\n",
    "for val in vals:\n",
    "    preds,dists, mae, mse, rmse = get_preds_eps(test, start_ind,n=val,eps=0.05)\n",
    "    maes_eps_005.append(mae)\n",
    "    mses_eps_005.append(mse)\n",
    "    rmses_eps_005.append(rmse)"
   ]
  },
  {
   "cell_type": "code",
   "execution_count": 59,
   "metadata": {},
   "outputs": [
    {
     "data": {
      "image/png": "[encoded data removed]",
      "text/plain": [
       "<Figure size 1440x720 with 1 Axes>"
      ]
     },
     "metadata": {},
     "output_type": "display_data"
    }
   ],
   "source": [
    "plt.figure(figsize=(20,10))\n",
    "plt.plot(vals, maes, label='Classic Zahn')\n",
    "plt.plot(vals, maes_eps_02, label='eps=0.2')\n",
    "plt.plot(vals, maes_eps_01, label='eps=0.1')\n",
    "plt.plot(vals, maes_eps_005, label='eps=0.05')\n",
    "plt.title('Classic vs Eps MAE')\n",
    "plt.ylabel('mae')\n",
    "plt.xlabel('n steps ahead')\n",
    "plt.legend()\n",
    "plt.show()"
   ]
  },
  {
   "cell_type": "code",
   "execution_count": null,
   "metadata": {},
   "outputs": [],
   "source": [
    "def get_preds_lle(series,start,n=100):\n",
    "    preds = []\n",
    "    dists = []\n",
    "    errors = []\n",
    "    errors_mat = []\n",
    "    step = 0\n",
    "    series_dummy = series[:start]\n",
    "    for i in range(start,start+preds_len):\n",
    "        if step >= n:\n",
    "            if errors:\n",
    "                errors_mat.append(np.log(np.array(errors)))\n",
    "                errors = []\n",
    "            preds.append(series[i])\n",
    "            series_dummy.append(series[i])\n",
    "            step += 1\n",
    "            if step == n + 7:\n",
    "                step = 0\n",
    "        else:\n",
    "            pred, dist = predict_point(series_dummy,i)\n",
    "            dists.append(dist)\n",
    "            preds.append(pred)\n",
    "            errors.append(abs(series[i]-pred))\n",
    "            series_dummy.append(pred)\n",
    "            step += 1\n",
    "    mat = np.array(errors_mat).T\n",
    "    ks = np.array([i for i in range(1,n+1)]).reshape(n,1)\n",
    "    return np.linalg.lstsq(ks, mat, rcond=None)[0]"
   ]
  },
  {
   "cell_type": "code",
   "execution_count": null,
   "metadata": {},
   "outputs": [],
   "source": [
    "lles = get_preds_lle(test,start_ind)"
   ]
  },
  {
   "cell_type": "code",
   "execution_count": null,
   "metadata": {},
   "outputs": [],
   "source": [
    "np.mean(lles)"
   ]
  },
  {
   "cell_type": "code",
   "execution_count": null,
   "metadata": {},
   "outputs": [],
   "source": [
    "lles"
   ]
  },
  {
   "cell_type": "code",
   "execution_count": null,
   "metadata": {},
   "outputs": [],
   "source": [
    "distplot(lles)"
   ]
  },
  {
   "cell_type": "code",
   "execution_count": null,
   "metadata": {},
   "outputs": [],
   "source": []
  }
 ],
 "metadata": {
  "kernelspec": {
   "display_name": "Python 3",
   "language": "python",
   "name": "python3"
  },
  "language_info": {
   "codemirror_mode": {
    "name": "ipython",
    "version": 3
   },
   "file_extension": ".py",
   "mimetype": "text/x-python",
   "name": "python",
   "nbconvert_exporter": "python",
   "pygments_lexer": "ipython3",
   "version": "3.6.5"
  }
 },
 "nbformat": 4,
 "nbformat_minor": 2
}
