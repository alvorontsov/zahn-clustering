{
 "cells": [
  {
   "cell_type": "code",
   "execution_count": 4,
   "metadata": {},
   "outputs": [],
   "source": [
    "import networkx as nx\n",
    "import numpy as np \n",
    "from matplotlib import pyplot as plt\n",
    "import collections\n",
    "from sklearn.metrics.pairwise import euclidean_distances\n",
    "from sklearn.cluster import KMeans\n",
    "from scipy.sparse import dok_matrix\n",
    "from scipy.sparse import csgraph\n",
    "import time\n",
    "from scipy.spatial import KDTree\n",
    "from scipy.spatial import cKDTree\n",
    "from scipy.sparse.csgraph import minimum_spanning_tree\n",
    "import scipy.sparse as sps\n",
    "import json\n",
    "import pickle\n",
    "import os\n",
    "import seaborn as sns\n",
    "from zahn import Zahn\n",
    "from template import Template_5"
   ]
  },
  {
   "cell_type": "code",
   "execution_count": 2,
   "metadata": {},
   "outputs": [],
   "source": [
    "algos = os.listdir(\"fitted\")"
   ]
  },
  {
   "cell_type": "code",
   "execution_count": 3,
   "metadata": {},
   "outputs": [
    {
     "data": {
      "text/plain": [
       "73"
      ]
     },
     "execution_count": 3,
     "metadata": {},
     "output_type": "execute_result"
    }
   ],
   "source": [
    "len(algos)"
   ]
  },
  {
   "cell_type": "code",
   "execution_count": 4,
   "metadata": {},
   "outputs": [],
   "source": [
    "tuples = []"
   ]
  },
  {
   "cell_type": "code",
   "execution_count": 5,
   "metadata": {},
   "outputs": [],
   "source": [
    "def get_averages(zahn):\n",
    "    comp_fifth_avg = []\n",
    "    comp_four = []\n",
    "    for component in zahn.clusters:\n",
    "        comp_fifth_avg.append(np.mean([i[-1] for i in component]))\n",
    "        comp = []\n",
    "        for vec in component:\n",
    "            comp.append(vec[:-1])\n",
    "        comp_four.append(np.array(comp))\n",
    "    centers = np.array([np.mean(x,axis=0) for x in comp_four])\n",
    "    zahn.comp_fifth_avg = comp_fifth_avg\n",
    "    zahn.comp_four = comp_four\n",
    "    zahn.centers = centers\n",
    "    zahn.centers_ktree = cKDTree(data=centers)"
   ]
  },
  {
   "cell_type": "code",
   "execution_count": 6,
   "metadata": {},
   "outputs": [
    {
     "name": "stdout",
     "output_type": "stream",
     "text": [
      "28\n",
      "9\n",
      "24\n",
      "23\n",
      "3\n",
      "5\n",
      "error\n",
      "26\n",
      "5\n",
      "21\n",
      "1\n",
      "15\n",
      "13\n",
      "19\n",
      "5\n",
      "12\n",
      "17\n",
      "1\n",
      "4\n",
      "10\n",
      "11\n",
      "6\n",
      "5\n",
      "1\n",
      "12\n",
      "2\n",
      "4\n",
      "1\n",
      "4\n",
      "22\n",
      "2\n",
      "29\n",
      "25\n",
      "4\n",
      "20\n",
      "4\n",
      "2\n",
      "3\n",
      "27\n",
      "5\n",
      "13\n",
      "15\n",
      "14\n",
      "18\n",
      "1\n",
      "2\n",
      "11\n",
      "2\n",
      "5\n",
      "1\n",
      "16\n",
      "14\n",
      "5\n",
      "8\n",
      "7\n",
      "4\n",
      "5\n",
      "error\n",
      "12\n",
      "3\n",
      "9\n",
      "4\n",
      "2\n",
      "3\n",
      "7\n",
      "1\n",
      "2\n",
      "4\n",
      "2\n",
      "12\n",
      "6\n",
      "2\n",
      "13\n"
     ]
    }
   ],
   "source": [
    "for a in algos:\n",
    "    try:\n",
    "        with open('fitted/' + a, 'rb') as fp:\n",
    "            zahn = pickle.load(fp)\n",
    "        print(zahn.template.n1)\n",
    "        get_averages(zahn)\n",
    "        t = (zahn.template, zahn.comp_fifth_avg, zahn.centers_ktree)\n",
    "        tuples.append(t)\n",
    "    except:\n",
    "        print('error')"
   ]
  },
  {
   "cell_type": "code",
   "execution_count": 1,
   "metadata": {},
   "outputs": [],
   "source": [
    "from nolitsa import lyapunov"
   ]
  },
  {
   "cell_type": "code",
   "execution_count": 59,
   "metadata": {},
   "outputs": [],
   "source": [
    "def get_zvec_for_template(series,i,t):\n",
    "    s = t.n1 + t.n2 + t.n3 + t.n4\n",
    "    i4 = i - s\n",
    "    i3 = i - t.n2 - t.n3 - t.n4\n",
    "    i2 = i - t.n3 - t.n4\n",
    "    i1 = i - t.n4\n",
    "    vec = np.array([series[i4],series[i3],series[i2],series[i1]])\n",
    "    return vec"
   ]
  },
  {
   "cell_type": "code",
   "execution_count": 60,
   "metadata": {},
   "outputs": [],
   "source": [
    "def get_zvecs_for_algos(series,i,tuples):\n",
    "    return [get_zvec_for_template(series,i,t[0]) for t in tuples]"
   ]
  },
  {
   "cell_type": "code",
   "execution_count": 61,
   "metadata": {},
   "outputs": [
    {
     "data": {
      "text/plain": [
       "[array([-10.01602586,   1.19417701,  -2.46781822, -10.0492415 ]),\n",
       " array([  0.82455829, -10.0492415 ,  -4.49137581, -12.02978782]),\n",
       " array([-2.62352337, -4.98777855, -2.14996289, -3.87504238]),\n",
       " array([-7.10678633, -5.98846659, -8.7815689 , -4.49137581]),\n",
       " array([ -7.56607392,  -4.75265475, -11.91765046,  -3.16957165]),\n",
       " array([-12.02978782,  -4.75265475, -12.5736412 ,  -3.61725561]),\n",
       " array([ -5.10410179,  -1.37733639, -12.45255715,  -9.77570881]),\n",
       " array([-12.61667282,  -7.05298206,  -4.67349095,  -4.06915221]),\n",
       " array([  1.19417701,  -3.21023241,  -1.09766453, -11.20003627]),\n",
       " array([-6.88245219, -3.61725561, -3.16957165, -8.12235906]),\n",
       " array([-13.81420848, -14.74776619,  -3.61389785,  -7.7073243 ]),\n",
       " array([-8.7815689 , 13.93743561, -4.49137581, -8.12971588]),\n",
       " array([-5.91585365, -2.44551278,  0.31305237, -8.57377724]),\n",
       " array([-12.02978782,  -4.75265475, -11.91765046,  -3.61725561]),\n",
       " array([-2.14996289,  2.25483581, -3.87504238, -7.56607392]),\n",
       " array([-10.47935227,  -6.16271605,  15.08944619,  -3.62853052]),\n",
       " array([-3.61725561, -3.16957165, -4.59449463, -8.12235906]),\n",
       " array([  2.25483581,   4.05466166, -12.51882353,  -8.12971588]),\n",
       " array([-9.28191820e-03, -3.61389785e+00, -1.25188235e+01, -3.42639848e+00]),\n",
       " array([ -4.15723715,   2.25483581, -11.20003627,  -4.06915221]),\n",
       " array([-3.87504238, -4.68254852, -7.7073243 , -6.88245219]),\n",
       " array([  6.27238817,  -3.61389785, -11.20003627,  -7.56607392]),\n",
       " array([-11.91765046,  -6.88245219,  -3.16957165,  -8.12235906]),\n",
       " array([ -4.41838027,  -1.4072593 , -11.20003627,  -4.75265475]),\n",
       " array([-9.77570881, -3.87504238, -4.67349095, -4.59449463]),\n",
       " array([-12.61667282,  -4.49137581,  -4.67349095, -12.5736412 ]),\n",
       " array([-6.88245219, -3.61725561, -4.59449463, -8.12235906]),\n",
       " array([-12.02978782,  -3.42639848, -12.5736412 ,  -3.16957165]),\n",
       " array([ -1.57924176,  -9.6379601 , -11.61323107,  -7.05298206]),\n",
       " array([-12.5736412 ,  -6.88245219,  -3.16957165,  -8.12235906]),\n",
       " array([-3.51618197, -0.25742135, -4.74804114, -6.13234787]),\n",
       " array([ -7.06287517, -10.25375942,  -2.37496798,  -5.5426152 ]),\n",
       " array([-4.67349095, -7.56607392, -4.75265475, -6.88245219]),\n",
       " array([ 1.23344959e+01, -1.38142085e+01, -9.28191820e-03, -1.25188235e+01]),\n",
       " array([  0.82455829,  13.93743561,  -5.5426152 , -12.02978782]),\n",
       " array([-11.91765046,  -3.61725561,  -4.59449463,  -8.12235906]),\n",
       " array([  0.82455829,  15.08944619, -11.20003627,  -8.12971588]),\n",
       " array([ -5.03127513,  16.05896125,  -7.88046459, -12.61667282]),\n",
       " array([-3.62853052, -7.56607392, -4.75265475, -6.88245219]),\n",
       " array([-12.45255715,   0.11268899,  -9.77570881, -12.18019866]),\n",
       " array([-12.61667282,  -7.56607392,  -4.75265475,  -3.16957165]),\n",
       " array([ -2.46781822,  -1.09766453, -10.0492415 , -12.02978782]),\n",
       " array([-4.98777855, -7.88046459,  2.25483581, -4.68254852]),\n",
       " array([-11.91765046,  -6.88245219,  -3.61725561,  -4.59449463]),\n",
       " array([-12.18019866,  -4.06915221, -11.91765046,  -3.16957165]),\n",
       " array([-11.61323107,  13.93743561,  -7.05298206,  -4.06915221]),\n",
       " array([-12.18019866,  -4.06915221,  -8.12971588,  -3.16957165]),\n",
       " array([ -0.2379281 ,   2.25483581,  -7.05298206, -12.5736412 ]),\n",
       " array([-6.88245219, -3.61725561, -3.16957165, -4.59449463]),\n",
       " array([-2.81818537, -2.14996289,  4.05466166, -4.67349095]),\n",
       " array([-4.41838027, -6.13234787, -4.67349095, -4.06915221]),\n",
       " array([ -3.62853052,  -7.56607392, -12.5736412 ,  -4.59449463]),\n",
       " array([ 4.05466166, -3.87504238, -4.67349095, -8.12971588]),\n",
       " array([-3.61389785, -4.49137581, -8.57377724, -6.88245219]),\n",
       " array([ -1.4072593 , -12.61667282, -12.51882353,  -6.88245219]),\n",
       " array([-12.51882353,  -7.7073243 ,  -3.42639848,  -6.88245219]),\n",
       " array([  0.11268899, -12.61667282,  -7.7073243 ,  -6.88245219]),\n",
       " array([ -4.67349095, -12.18019866,  -4.75265475,  -3.61725561]),\n",
       " array([  2.25483581, -12.61667282,  -4.68254852,  -4.75265475]),\n",
       " array([-4.67349095, -7.56607392, -8.12971588, -3.61725561]),\n",
       " array([-6.88245219, -3.16957165, -4.59449463, -8.12235906]),\n",
       " array([ -4.06915221,  -8.12971588, -11.91765046,  -3.16957165]),\n",
       " array([-10.0492415 , -11.20003627, -12.02978782, -12.5736412 ]),\n",
       " array([-12.5736412 , -11.91765046,  -3.61725561,  -4.59449463]),\n",
       " array([ -3.42639848,  -8.12971588, -11.91765046,  -3.16957165]),\n",
       " array([ -3.62853052, -12.18019866,  -8.12971588,  -3.16957165]),\n",
       " array([ -4.06915221,  -4.75265475, -12.5736412 ,  -3.61725561]),\n",
       " array([ -2.14996289,   2.25483581,  -9.77570881, -12.18019866]),\n",
       " array([ -3.87504238,  -4.68254852,  -7.56607392, -11.91765046]),\n",
       " array([ -4.67349095, -12.02978782,  -3.42639848,  -6.88245219]),\n",
       " array([ -1.09766453,  -6.13234787, -12.51882353,  -8.12971588])]"
      ]
     },
     "execution_count": 61,
     "metadata": {},
     "output_type": "execute_result"
    }
   ],
   "source": [
    "get_zvecs_for_algos(series_26,750000,tuples)"
   ]
  },
  {
   "cell_type": "code",
   "execution_count": 5,
   "metadata": {},
   "outputs": [],
   "source": [
    "with open('data/series.json') as fp:\n",
    "    series_26 = json.load(fp)"
   ]
  },
  {
   "cell_type": "code",
   "execution_count": 10,
   "metadata": {},
   "outputs": [],
   "source": [
    "def reconstruct_2(ts, m, J=None):\n",
    "    \"\"\"\n",
    "    Function which reconstructs z-vectors with overlapping\n",
    "    :param ts: The origin time series.\n",
    "    :param m: The embedding dimensionality\n",
    "    :param J: J is the delay parameter\n",
    "    :return:\n",
    "    \"\"\"\n",
    "    l = []\n",
    "    if np.ndim(ts) == 1:\n",
    "        # Reshape this array\n",
    "        ts = ts.reshape(-1, 1)\n",
    "        l.append(ts[:-(m+1)])\n",
    "    for i in range(1, m+1):\n",
    "        ts_sliced = ts[i:-(m-i+1)]\n",
    "        l.append(ts_sliced)\n",
    "    ts_reconstructed = np.concatenate(l, axis=1)\n",
    "    return ts_reconstructed"
   ]
  },
  {
   "cell_type": "code",
   "execution_count": null,
   "metadata": {},
   "outputs": [],
   "source": [
    "l28"
   ]
  },
  {
   "cell_type": "code",
   "execution_count": null,
   "metadata": {},
   "outputs": [],
   "source": []
  },
  {
   "cell_type": "code",
   "execution_count": null,
   "metadata": {},
   "outputs": [],
   "source": []
  },
  {
   "cell_type": "code",
   "execution_count": null,
   "metadata": {},
   "outputs": [],
   "source": []
  },
  {
   "cell_type": "code",
   "execution_count": null,
   "metadata": {},
   "outputs": [],
   "source": []
  },
  {
   "cell_type": "code",
   "execution_count": 62,
   "metadata": {},
   "outputs": [],
   "source": [
    "def predict_zvec(t,zvec):\n",
    "    dist,ind = t[2].query(zvec)\n",
    "    pred = t[1][ind]\n",
    "    return pred, dist"
   ]
  },
  {
   "cell_type": "code",
   "execution_count": 63,
   "metadata": {},
   "outputs": [],
   "source": [
    "def predict_point_avg(series,i):\n",
    "    preds = []\n",
    "    dists = []\n",
    "    zvecs_list = get_zvecs_for_algos(series,i,tuples)\n",
    "    for i in range(len(zvecs_list)):\n",
    "        pred, dist = predict_zvec(tuples[i],zvecs_list[i])\n",
    "        preds.append(pred)\n",
    "        dists.append(dist)\n",
    "    return np.mean(preds), np.mean(dists)"
   ]
  },
  {
   "cell_type": "code",
   "execution_count": 64,
   "metadata": {},
   "outputs": [
    {
     "data": {
      "text/plain": [
       "(-10.691733089120318, 0.641843831583973)"
      ]
     },
     "execution_count": 64,
     "metadata": {},
     "output_type": "execute_result"
    }
   ],
   "source": [
    "predict_point_avg(series_26,770000)"
   ]
  },
  {
   "cell_type": "code",
   "execution_count": 65,
   "metadata": {},
   "outputs": [
    {
     "data": {
      "text/plain": [
       "-12.832920091505308"
      ]
     },
     "execution_count": 65,
     "metadata": {},
     "output_type": "execute_result"
    }
   ],
   "source": [
    "series_26[750000]"
   ]
  },
  {
   "cell_type": "code",
   "execution_count": 66,
   "metadata": {},
   "outputs": [],
   "source": [
    "preds_len = 100"
   ]
  },
  {
   "cell_type": "code",
   "execution_count": 67,
   "metadata": {},
   "outputs": [],
   "source": [
    "test = series_26[749993:]\n",
    "# starting point 750k\n",
    "start_ind = 107"
   ]
  },
  {
   "cell_type": "code",
   "execution_count": 68,
   "metadata": {},
   "outputs": [],
   "source": [
    "def get_preds(series,start,n=10):\n",
    "    preds = []\n",
    "    dists = []\n",
    "    errors = []\n",
    "    sq_errors = []\n",
    "    step = 0\n",
    "    series_dummy = series[:start]\n",
    "    for i in range(start,start+preds_len):\n",
    "        if step >= n:\n",
    "            preds.append(series[i])\n",
    "            series_dummy.append(series[i])\n",
    "            step += 1\n",
    "            if step == n + 7:\n",
    "                step = 0\n",
    "        else:\n",
    "            pred, dist = predict_point_avg(series_dummy,i)\n",
    "            dists.append(dist)\n",
    "            preds.append(pred)\n",
    "            errors.append(abs(series[i]-pred) / max(series))\n",
    "            mse = (series[i] / max(series) - pred/ max(series))**2\n",
    "            sq_errors.append(mse)\n",
    "            series_dummy.append(pred)\n",
    "            step += 1\n",
    "    return preds, dists, np.mean(errors), np.mean(sq_errors), np.mean(sq_errors)**(1/2)"
   ]
  },
  {
   "cell_type": "code",
   "execution_count": 69,
   "metadata": {},
   "outputs": [],
   "source": [
    "preds, dists, mae, mse, rmse = get_preds(test,start_ind)"
   ]
  },
  {
   "cell_type": "code",
   "execution_count": null,
   "metadata": {},
   "outputs": [],
   "source": []
  },
  {
   "cell_type": "code",
   "execution_count": 70,
   "metadata": {},
   "outputs": [
    {
     "data": {
      "text/plain": [
       "0.3045559469295155"
      ]
     },
     "execution_count": 70,
     "metadata": {},
     "output_type": "execute_result"
    }
   ],
   "source": [
    "mae"
   ]
  },
  {
   "cell_type": "code",
   "execution_count": 71,
   "metadata": {},
   "outputs": [
    {
     "data": {
      "image/png": "[encoded data removed]",
      "text/plain": [
       "<Figure size 1440x720 with 1 Axes>"
      ]
     },
     "metadata": {},
     "output_type": "display_data"
    }
   ],
   "source": [
    "plt.figure(figsize=(20,10))\n",
    "plt.plot([i for i in range(preds_len)], preds[:preds_len], label='predictions')\n",
    "plt.plot([i for i in range(preds_len)], test[start_ind:start_ind+preds_len], label='series28')\n",
    "plt.title('Preds vs original data')\n",
    "plt.ylabel('value')\n",
    "plt.legend()\n",
    "plt.show()"
   ]
  },
  {
   "cell_type": "code",
   "execution_count": 72,
   "metadata": {},
   "outputs": [],
   "source": [
    "preds = []\n",
    "dists = []"
   ]
  },
  {
   "cell_type": "code",
   "execution_count": 73,
   "metadata": {},
   "outputs": [],
   "source": [
    "for i in range(760000,760020):\n",
    "    p,d = predict_point_avg(series_26,i)\n",
    "    preds.append(p)\n",
    "    dists.append(d)"
   ]
  },
  {
   "cell_type": "code",
   "execution_count": 74,
   "metadata": {},
   "outputs": [
    {
     "data": {
      "text/plain": [
       "[2.3117600858109917,\n",
       " 1.4095190371162742,\n",
       " 1.7408864364098333,\n",
       " 2.905258356997821,\n",
       " 5.600524557468859,\n",
       " 10.56893993484669,\n",
       " 9.584431351404406,\n",
       " 4.382716592015049,\n",
       " 1.602239865835269,\n",
       " 0.956678202965922,\n",
       " 1.0537283165659932,\n",
       " 1.5860291129078228,\n",
       " 3.4767530002920495,\n",
       " 7.5848416708021,\n",
       " 10.629303332932059,\n",
       " 8.782603793119062,\n",
       " 3.2835753963878336,\n",
       " -0.16491766142996186,\n",
       " -1.7931143877308944,\n",
       " -2.625775571038293]"
      ]
     },
     "execution_count": 74,
     "metadata": {},
     "output_type": "execute_result"
    }
   ],
   "source": [
    "preds"
   ]
  },
  {
   "cell_type": "code",
   "execution_count": 75,
   "metadata": {},
   "outputs": [
    {
     "data": {
      "text/plain": [
       "[0.7891016850993519,\n",
       " 0.8779863363059038,\n",
       " 0.9129533418695281,\n",
       " 0.8564670029500078,\n",
       " 0.846082032150642,\n",
       " 0.7280162896945738,\n",
       " 0.7060908201126141,\n",
       " 0.807918884649333,\n",
       " 0.7966982649104292,\n",
       " 0.7486620436263669,\n",
       " 0.7850856993600989,\n",
       " 0.7295925890171482,\n",
       " 0.7630706605011659,\n",
       " 0.8655056676138747,\n",
       " 0.817090383349608,\n",
       " 0.7182606712218512,\n",
       " 0.7924659696592532,\n",
       " 0.8113791473400485,\n",
       " 0.7751138899032382,\n",
       " 0.7227007301607205]"
      ]
     },
     "execution_count": 75,
     "metadata": {},
     "output_type": "execute_result"
    }
   ],
   "source": [
    "dists"
   ]
  },
  {
   "cell_type": "code",
   "execution_count": null,
   "metadata": {},
   "outputs": [],
   "source": []
  }
 ],
 "metadata": {
  "kernelspec": {
   "display_name": "Python 3",
   "language": "python",
   "name": "python3"
  },
  "language_info": {
   "codemirror_mode": {
    "name": "ipython",
    "version": 3
   },
   "file_extension": ".py",
   "mimetype": "text/x-python",
   "name": "python",
   "nbconvert_exporter": "python",
   "pygments_lexer": "ipython3",
   "version": "3.6.5"
  }
 },
 "nbformat": 4,
 "nbformat_minor": 2
}
